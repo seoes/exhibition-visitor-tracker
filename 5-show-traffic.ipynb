{
  "nbformat": 4,
  "nbformat_minor": 0,
  "metadata": {
    "colab": {
      "provenance": [],
      "authorship_tag": "ABX9TyM60j/ZyvPX+U997+1M2PHr",
      "include_colab_link": true
    },
    "kernelspec": {
      "name": "python3",
      "display_name": "Python 3"
    },
    "language_info": {
      "name": "python"
    }
  },
  "cells": [
    {
      "cell_type": "markdown",
      "metadata": {
        "id": "view-in-github",
        "colab_type": "text"
      },
      "source": [
        "<a href=\"https://colab.research.google.com/github/vss121/exhibition-visitor-tracker/blob/main/5-show-traffic.ipynb\" target=\"_parent\"><img src=\"https://colab.research.google.com/assets/colab-badge.svg\" alt=\"Open In Colab\"/></a>"
      ]
    },
    {
      "cell_type": "markdown",
      "source": [
        "목록\n",
        "1. YOLOV5 + ByteTrack으로 인식 -> 프레임별 모든 id 좌표값 리턴\n",
        "2. 이동거리 계산 후 클러스터링 -> 이동거리 작은 클러스터 지운 후 남은 id에 대한 프레임별 좌표값 리턴\n",
        "3. 좌표 시점변환 (탑뷰) -> 변환된 좌표값 리턴\n",
        "4. 필터링된 ID값만 남은 프레임별 좌표값에 대해 KDE 연산 -> 히트맵 출력(3D로)  \n",
        "5. 필터링된 ID값만 남은 프레임별 좌표값에 대해 동선 연산 -> 동선 맵 출력(Distinctify)  \n",
        "6. 필터링된 ID값만 남은 프레임별 좌표값에 대해 가까운 작품 찾는 연산 -> 인기많은 작품 찾기"
      ],
      "metadata": {
        "id": "BiobU4YDotEl"
      }
    },
    {
      "cell_type": "markdown",
      "source": [
        "# 5. 필터링된 ID값만 남은 프레임별 좌표값에 대해 동선 연산 -> 동선 맵 출력(Distinctify)  "
      ],
      "metadata": {
        "id": "iySg33KszvrZ"
      }
    },
    {
      "cell_type": "code",
      "source": [
        "# distinctipy 설치\n",
        "!git clone https://github.com/alan-turing-institute/distinctipy.git\n",
        "%cd distinctipy\n",
        "!pip install .\n",
        "%cd .."
      ],
      "metadata": {
        "colab": {
          "base_uri": "https://localhost:8080/"
        },
        "id": "b4t1LjiwqLrt",
        "outputId": "8788c3d2-4c7f-4f63-9d95-532f33fd9dd5"
      },
      "execution_count": 11,
      "outputs": [
        {
          "output_type": "stream",
          "name": "stdout",
          "text": [
            "fatal: destination path 'distinctipy' already exists and is not an empty directory.\n",
            "/content/distinctipy/distinctipy\n",
            "\u001b[31mERROR: Directory '.' is not installable. Neither 'setup.py' nor 'pyproject.toml' found.\u001b[0m\u001b[31m\n",
            "\u001b[0m/content/distinctipy\n"
          ]
        }
      ]
    },
    {
      "cell_type": "code",
      "source": [
        "import pandas as pd\n",
        "import matplotlib.pyplot as plt\n",
        "from distinctipy import distinctipy"
      ],
      "metadata": {
        "id": "s_dX_x1LzdBj"
      },
      "execution_count": 12,
      "outputs": []
    },
    {
      "cell_type": "code",
      "source": [
        "# 파일 불러오기\n",
        "from google.colab import drive\n",
        "drive.mount('/content/drive')\n",
        "file_path = \"/content/drive/My Drive/each_coord-3.txt\"  # 파일 경로를 설정\n",
        "data = pd.read_csv(file_path, header=None, names=['frame', 'id', 'probability', 'x', 'y'])\n",
        "print(data.head())"
      ],
      "metadata": {
        "colab": {
          "base_uri": "https://localhost:8080/"
        },
        "id": "r9V3TjL4oUUa",
        "outputId": "f0e39fc7-dae9-4aa9-f717-4e5dd1f26cba"
      },
      "execution_count": 13,
      "outputs": [
        {
          "output_type": "stream",
          "name": "stdout",
          "text": [
            "Drive already mounted at /content/drive; to attempt to forcibly remount, call drive.mount(\"/content/drive\", force_remount=True).\n",
            "   frame  id  probability    x     y\n",
            "0      0   1     0.784182  293  1710\n",
            "1      0   2     0.749597  625  1024\n",
            "2      0   3     0.728924  574   491\n",
            "3      0   4     0.690018  544   435\n",
            "4      0   5     0.680504  459   323\n"
          ]
        }
      ]
    },
    {
      "cell_type": "code",
      "source": [
        "# 데이터 프레임을 그룹화하고 각 그룹에 대해 리스트(변수 result)를 생성\n",
        "grouped = data.groupby('id')\n",
        "result = {}\n",
        "for name, group in grouped:\n",
        "    result[name] = list(zip(group['frame'], group['x'], group['y']))"
      ],
      "metadata": {
        "id": "wmUcZY12xVi6"
      },
      "execution_count": 14,
      "outputs": []
    },
    {
      "cell_type": "code",
      "source": [
        "width = 400\n",
        "height = 2000"
      ],
      "metadata": {
        "id": "Lh9xh04DzUoi"
      },
      "execution_count": 15,
      "outputs": []
    },
    {
      "cell_type": "code",
      "source": [
        "# id 개수\n",
        "trajectories_items_num = len(result.items())\n",
        "\n",
        "# distinctipy 라이브러리 사용\n",
        "colors = distinctipy.get_colors(trajectories_items_num)\n",
        "print(colors)\n",
        "\n",
        "# 색깔 확인\n",
        "# distinctipy.color_swatch(colors)\n",
        "\n",
        "# 개수 세기\n",
        "trajectories_items_num = 0\n",
        "\n",
        "# 각 객체별로 정렬된 좌표에 따라 경로 그리기\n",
        "plt.figure(figsize=(2, 10))\n",
        "for obj_id, path in result.items():\n",
        "    # 개수 +1\n",
        "    trajectories_items_num += 1\n",
        "    # 시간에 따라 경로 정렬\n",
        "    sorted_path = sorted(path, key=lambda x: x[0])\n",
        "    # 경로의 x, y 좌표를 분리\n",
        "    x_coords, y_coords = zip(*[(x, y) for _, x, y in sorted_path])\n",
        "\n",
        "    # 경로를 그림\n",
        "    plt.plot(x_coords, y_coords, color=colors[trajectories_items_num - 1], marker='o', label=f'Object {trajectories_items_num}')\n",
        "\n",
        "# 시각화 설정\n",
        "plt.legend(loc='upper left', bbox_to_anchor=(1, 1))  # 범례\n",
        "\n",
        "#plt.imshow(warped_image)\n",
        "plt.xlabel('X')\n",
        "plt.ylabel('Y')\n",
        "plt.title('Tracking data of every visitor')\n",
        "plt.xlim([0, width])\n",
        "plt.ylim([height, 0])\n",
        "plt.grid(True)\n",
        "plt.axis('equal')  # 축의 스케일을 동일하게 설정\n",
        "\n",
        "# 결과 표시\n",
        "plt.show()\n"
      ],
      "metadata": {
        "colab": {
          "base_uri": "https://localhost:8080/",
          "height": 356
        },
        "id": "TnVDLUCYplnx",
        "outputId": "5f4c881d-57ab-467c-da7e-d0e09b68f7aa"
      },
      "execution_count": 7,
      "outputs": [
        {
          "output_type": "error",
          "ename": "KeyboardInterrupt",
          "evalue": "",
          "traceback": [
            "\u001b[0;31m---------------------------------------------------------------------------\u001b[0m",
            "\u001b[0;31mKeyboardInterrupt\u001b[0m                         Traceback (most recent call last)",
            "\u001b[0;32m<ipython-input-7-d625c161479b>\u001b[0m in \u001b[0;36m<cell line: 6>\u001b[0;34m()\u001b[0m\n\u001b[1;32m      4\u001b[0m \u001b[0;31m# distinctipy 라이브러리 사용\u001b[0m\u001b[0;34m\u001b[0m\u001b[0;34m\u001b[0m\u001b[0m\n\u001b[1;32m      5\u001b[0m \u001b[0;32mfrom\u001b[0m \u001b[0mdistinctipy\u001b[0m \u001b[0;32mimport\u001b[0m \u001b[0mdistinctipy\u001b[0m\u001b[0;34m\u001b[0m\u001b[0;34m\u001b[0m\u001b[0m\n\u001b[0;32m----> 6\u001b[0;31m \u001b[0mcolors\u001b[0m \u001b[0;34m=\u001b[0m \u001b[0mdistinctipy\u001b[0m\u001b[0;34m.\u001b[0m\u001b[0mget_colors\u001b[0m\u001b[0;34m(\u001b[0m\u001b[0mtrajectories_items_num\u001b[0m\u001b[0;34m)\u001b[0m\u001b[0;34m\u001b[0m\u001b[0;34m\u001b[0m\u001b[0m\n\u001b[0m\u001b[1;32m      7\u001b[0m \u001b[0mprint\u001b[0m\u001b[0;34m(\u001b[0m\u001b[0mcolors\u001b[0m\u001b[0;34m)\u001b[0m\u001b[0;34m\u001b[0m\u001b[0;34m\u001b[0m\u001b[0m\n\u001b[1;32m      8\u001b[0m \u001b[0;34m\u001b[0m\u001b[0m\n",
            "\u001b[0;32m/content/distinctipy/distinctipy/distinctipy.py\u001b[0m in \u001b[0;36mget_colors\u001b[0;34m(n_colors, exclude_colors, return_excluded, pastel_factor, n_attempts, colorblind_type, rng)\u001b[0m\n\u001b[1;32m    294\u001b[0m     \u001b[0;32mfor\u001b[0m \u001b[0mi\u001b[0m \u001b[0;32min\u001b[0m \u001b[0mrange\u001b[0m\u001b[0;34m(\u001b[0m\u001b[0mn_colors\u001b[0m\u001b[0;34m)\u001b[0m\u001b[0;34m:\u001b[0m\u001b[0;34m\u001b[0m\u001b[0;34m\u001b[0m\u001b[0m\n\u001b[1;32m    295\u001b[0m         colors.append(\n\u001b[0;32m--> 296\u001b[0;31m             distinct_color(\n\u001b[0m\u001b[1;32m    297\u001b[0m                 \u001b[0mcolors\u001b[0m\u001b[0;34m,\u001b[0m\u001b[0;34m\u001b[0m\u001b[0;34m\u001b[0m\u001b[0m\n\u001b[1;32m    298\u001b[0m                 \u001b[0mpastel_factor\u001b[0m\u001b[0;34m=\u001b[0m\u001b[0mpastel_factor\u001b[0m\u001b[0;34m,\u001b[0m\u001b[0;34m\u001b[0m\u001b[0;34m\u001b[0m\u001b[0m\n",
            "\u001b[0;32m/content/distinctipy/distinctipy/distinctipy.py\u001b[0m in \u001b[0;36mdistinct_color\u001b[0;34m(exclude_colors, pastel_factor, n_attempts, colorblind_type, rng)\u001b[0m\n\u001b[1;32m    204\u001b[0m \u001b[0;34m\u001b[0m\u001b[0m\n\u001b[1;32m    205\u001b[0m             distance_to_nearest = min(\n\u001b[0;32m--> 206\u001b[0;31m                 \u001b[0;34m[\u001b[0m\u001b[0mcolor_distance\u001b[0m\u001b[0;34m(\u001b[0m\u001b[0mcompare_color\u001b[0m\u001b[0;34m,\u001b[0m \u001b[0mc\u001b[0m\u001b[0;34m)\u001b[0m \u001b[0;32mfor\u001b[0m \u001b[0mc\u001b[0m \u001b[0;32min\u001b[0m \u001b[0mexclude_colors\u001b[0m\u001b[0;34m]\u001b[0m\u001b[0;34m\u001b[0m\u001b[0;34m\u001b[0m\u001b[0m\n\u001b[0m\u001b[1;32m    207\u001b[0m             )\n\u001b[1;32m    208\u001b[0m \u001b[0;34m\u001b[0m\u001b[0m\n",
            "\u001b[0;32m/content/distinctipy/distinctipy/distinctipy.py\u001b[0m in \u001b[0;36m<listcomp>\u001b[0;34m(.0)\u001b[0m\n\u001b[1;32m    204\u001b[0m \u001b[0;34m\u001b[0m\u001b[0m\n\u001b[1;32m    205\u001b[0m             distance_to_nearest = min(\n\u001b[0;32m--> 206\u001b[0;31m                 \u001b[0;34m[\u001b[0m\u001b[0mcolor_distance\u001b[0m\u001b[0;34m(\u001b[0m\u001b[0mcompare_color\u001b[0m\u001b[0;34m,\u001b[0m \u001b[0mc\u001b[0m\u001b[0;34m)\u001b[0m \u001b[0;32mfor\u001b[0m \u001b[0mc\u001b[0m \u001b[0;32min\u001b[0m \u001b[0mexclude_colors\u001b[0m\u001b[0;34m]\u001b[0m\u001b[0;34m\u001b[0m\u001b[0;34m\u001b[0m\u001b[0m\n\u001b[0m\u001b[1;32m    207\u001b[0m             )\n\u001b[1;32m    208\u001b[0m \u001b[0;34m\u001b[0m\u001b[0m\n",
            "\u001b[0;31mKeyboardInterrupt\u001b[0m: "
          ]
        }
      ]
    }
  ]
}