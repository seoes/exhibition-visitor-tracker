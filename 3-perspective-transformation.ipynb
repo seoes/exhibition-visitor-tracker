{
  "cells": [
    {
      "cell_type": "markdown",
      "metadata": {
        "colab_type": "text",
        "id": "view-in-github"
      },
      "source": [
        "<a href=\"https://colab.research.google.com/github/seoes/exhibition-visitor-tracker/blob/main/3-perspective-transformation.ipynb\" target=\"_parent\"><img src=\"https://colab.research.google.com/assets/colab-badge.svg\" alt=\"Open In Colab\"/></a>"
      ]
    },
    {
      "cell_type": "markdown",
      "metadata": {},
      "source": [
        "# 구글 드라이브 연결"
      ]
    },
    {
      "cell_type": "code",
      "execution_count": null,
      "metadata": {},
      "outputs": [],
      "source": [
        "from google.colab import drive\n",
        "drive.mount('/content/drive')\n",
        "result_dir_path = \"/content/drive/MyDrive/results\"\n",
        "\n",
        "result_path = \"/content/drive/MyDrive/result\"\n",
        "filename = \"exhibition-64-full.mp4\"\n",
        "\n"
      ]
    },
    {
      "cell_type": "markdown",
      "metadata": {},
      "source": [
        "# 로컬 환경에서 연결"
      ]
    },
    {
      "cell_type": "code",
      "execution_count": null,
      "metadata": {},
      "outputs": [],
      "source": [
        "import os\n",
        "HOME = os.getcwd()\n",
        "%cd {HOME}\n",
        "\n",
        "filename = \"\"\n",
        "\n",
        "with open(f\"{HOME}/filename.txt\", 'r') as file:\n",
        "    for line in file:\n",
        "        filename = line.strip()\n",
        "\n",
        "result_path = f\"{HOME}/result\""
      ]
    },
    {
      "cell_type": "markdown",
      "metadata": {
        "id": "Qv-0N-Va0sc3"
      },
      "source": [
        "## 원근 변환 위한 점 정의"
      ]
    },
    {
      "cell_type": "code",
      "execution_count": 5,
      "metadata": {
        "id": "qUF7jy4n0pvt"
      },
      "outputs": [],
      "source": [
        "import numpy as np\n",
        "import cv2\n",
        "\n",
        "width = 400\n",
        "height = 2000\n",
        "\n",
        "src_points = np.float32([[378,260],[688,260],[1080,1745],[0,1745]])\n",
        "dst_points = np.float32([[0, 0], [width, 0], [width, height], [0, height]])\n",
        "\n",
        "M = cv2.getPerspectiveTransform(src_points, dst_points)"
      ]
    },
    {
      "cell_type": "code",
      "execution_count": 16,
      "metadata": {
        "id": "SncV4nii6JKK"
      },
      "outputs": [],
      "source": [
        "from collections import defaultdict\n",
        "\n",
        "filtered_each_coord = list()\n",
        "temp_array = list()\n",
        "\n",
        "with open(f'{result_path}/{filename}-3-filtered_coord.txt', 'r') as f:\n",
        "    for line in f:\n",
        "        if line.strip():  # 빈 줄이 아니면\n",
        "            tuple_elements = line.strip().split(', ')\n",
        "            temp_list = list(map(lambda x: int(x) if x.isdigit() else x, tuple_elements))\n",
        "            temp_list[2] = float(temp_list[2])\n",
        "            temp_tuple = tuple(temp_list)\n",
        "            temp_array.append(temp_tuple)\n",
        "        else:  # 빈 줄이면 현재까지의 temp_array를 loaded_nested_data에 추가하고 temp_array 초기화\n",
        "            filtered_each_coord.append(temp_array)\n",
        "            temp_array = list()\n",
        "    if temp_array:  # 파일의 마지막에 빈 줄이 없는 경우 처리\n",
        "        filtered_each_coord.append(temp_array)\n",
        "\n",
        "# 객체별 경로를 저장할 defaultdict 생성\n",
        "trajectories = defaultdict(list)\n",
        "\n",
        "for frame_coords in filtered_each_coord:\n",
        "  for coord in frame_coords:\n",
        "    frame,obj_id, conf, x,y = coord\n",
        "    # 좌표에 원근 변환 적용\n",
        "    transformed_coord = cv2.perspectiveTransform(np.array([[x, y]], dtype='float32').reshape(-1, 1, 2), M)\n",
        "    # 변환된 좌표를 객체 ID에 맞게 리스트에 추가\n",
        "    trajectories[obj_id].append((frame, transformed_coord[0][0][0], transformed_coord[0][0][1]))\n",
        "\n",
        "with open(f'{result_path}/{filename}-4-trajectories.txt', \"w\") as file:\n",
        "    for obj_id, coords in trajectories.items():\n",
        "        for coord in coords:\n",
        "            frame, x, y = coord\n",
        "            file.write(f\"{obj_id}, {frame}, {x}, {y}\\n\")"
      ]
    },
    {
      "cell_type": "markdown",
      "metadata": {
        "id": "XWeC3L2h-9UH"
      },
      "source": [
        "### 비디오 다운로드"
      ]
    },
    {
      "cell_type": "code",
      "execution_count": 20,
      "metadata": {
        "colab": {
          "base_uri": "https://localhost:8080/"
        },
        "id": "qxaUBZls-81I",
        "outputId": "b73dbe6a-54c6-434b-ef83-fa727f09853d"
      },
      "outputs": [
        {
          "name": "stdout",
          "output_type": "stream",
          "text": [
            "/content\n",
            "Requirement already satisfied: gdown in /usr/local/lib/python3.10/dist-packages (4.7.3)\n",
            "Requirement already satisfied: filelock in /usr/local/lib/python3.10/dist-packages (from gdown) (3.13.1)\n",
            "Requirement already satisfied: requests[socks] in /usr/local/lib/python3.10/dist-packages (from gdown) (2.31.0)\n",
            "Requirement already satisfied: six in /usr/local/lib/python3.10/dist-packages (from gdown) (1.16.0)\n",
            "Requirement already satisfied: tqdm in /usr/local/lib/python3.10/dist-packages (from gdown) (4.66.2)\n",
            "Requirement already satisfied: beautifulsoup4 in /usr/local/lib/python3.10/dist-packages (from gdown) (4.12.3)\n",
            "Requirement already satisfied: soupsieve>1.2 in /usr/local/lib/python3.10/dist-packages (from beautifulsoup4->gdown) (2.5)\n",
            "Requirement already satisfied: charset-normalizer<4,>=2 in /usr/local/lib/python3.10/dist-packages (from requests[socks]->gdown) (3.3.2)\n",
            "Requirement already satisfied: idna<4,>=2.5 in /usr/local/lib/python3.10/dist-packages (from requests[socks]->gdown) (3.6)\n",
            "Requirement already satisfied: urllib3<3,>=1.21.1 in /usr/local/lib/python3.10/dist-packages (from requests[socks]->gdown) (2.0.7)\n",
            "Requirement already satisfied: certifi>=2017.4.17 in /usr/local/lib/python3.10/dist-packages (from requests[socks]->gdown) (2024.2.2)\n",
            "Requirement already satisfied: PySocks!=1.5.7,>=1.5.6 in /usr/local/lib/python3.10/dist-packages (from requests[socks]->gdown) (1.7.1)\n",
            "/usr/local/lib/python3.10/dist-packages/gdown/cli.py:138: FutureWarning: Option `--id` was deprecated in version 4.3.1 and will be removed in 5.0. You don't need to pass it anymore to use a file ID.\n",
            "  warnings.warn(\n",
            "Failed to retrieve file url:\n",
            "\n",
            "\tCannot retrieve the public link of the file. You may need to change\n",
            "\tthe permission to 'Anyone with the link', or have had many accesses.\n",
            "\n",
            "You may still be able to access the file from the browser:\n",
            "\n",
            "\thttps://drive.google.com/uc?id=1jEhErOcFKt7JrliQFzMar5yerHkTeu09\n",
            "\n",
            "but Gdown can't. Please check connections and permissions.\n"
          ]
        }
      ],
      "source": [
        "import os\n",
        "HOME = os.getcwd()\n",
        "%cd {HOME}\n",
        "\n",
        "!pip install gdown\n",
        "# !gdown --id 1-Jt6B5D68UqHc5dcP8EwtRoIdjKENlz_ -O ./models/pretrained_model.pth\n",
        "# !gdown --id 1vcKRPpv7ve1St-0rynhGa-H3lHMyCNt9 -O exhibition-64-sample.mp4\n",
        "!gdown --id 1jEhErOcFKt7JrliQFzMar5yerHkTeu09 -O exhibition-64-full.mp4\n",
        "\n",
        "FULL_VIDEO_64 = f\"{HOME}/exhibition-64-full.mp4\""
      ]
    },
    {
      "cell_type": "markdown",
      "metadata": {
        "id": "xbDvzrA2-8pc"
      },
      "source": []
    },
    {
      "cell_type": "code",
      "execution_count": null,
      "metadata": {
        "id": "iIaexcyQ10IN"
      },
      "outputs": [],
      "source": [
        "# 비디오를 로드\n",
        "cap = cv2.VideoCapture(FULL_VIDEO_64)\n",
        "\n",
        "# 첫 프레임을 읽기\n",
        "ret, frame = cap.read()\n",
        "frame = cv2.cvtColor(frame, cv2.COLOR_BGR2RGB)\n",
        "warped_image = cv2.warpPerspective(frame, M, (width, height))"
      ]
    }
  ],
  "metadata": {
    "colab": {
      "authorship_tag": "ABX9TyNJop9H960Ht5gI1uTHaAD9",
      "include_colab_link": true,
      "provenance": []
    },
    "kernelspec": {
      "display_name": "Python 3",
      "name": "python3"
    },
    "language_info": {
      "name": "python"
    }
  },
  "nbformat": 4,
  "nbformat_minor": 0
}
