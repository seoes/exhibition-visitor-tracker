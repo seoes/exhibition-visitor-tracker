{
  "cells": [
    {
      "cell_type": "markdown",
      "metadata": {
        "colab_type": "text",
        "id": "view-in-github"
      },
      "source": [
        "<a href=\"https://colab.research.google.com/github/nam3762/exhibition-visitor-tracker/blob/main/4-KDE-Gaussian-Kernel.ipynb\" target=\"_parent\"><img src=\"https://colab.research.google.com/assets/colab-badge.svg\" alt=\"Open In Colab\"/></a>"
      ]
    },
    {
      "cell_type": "markdown",
      "metadata": {},
      "source": [
        "# 구글 드라이브 연결"
      ]
    },
    {
      "cell_type": "code",
      "execution_count": null,
      "metadata": {},
      "outputs": [],
      "source": [
        "from google.colab import drive\n",
        "drive.mount('/content/drive')\n",
        "result_dir_path = \"/content/drive/MyDrive/results\"\n",
        "\n",
        "result_path = \"/content/drive/MyDrive/result\"\n",
        "filename = \"exhibition-64-full.mp4\""
      ]
    },
    {
      "cell_type": "markdown",
      "metadata": {},
      "source": [
        "# 로컬 환경에서 연결"
      ]
    },
    {
      "cell_type": "code",
      "execution_count": null,
      "metadata": {},
      "outputs": [],
      "source": [
        "import os\n",
        "HOME = os.getcwd()\n",
        "%cd {HOME}\n",
        "\n",
        "filename = \"\"\n",
        "\n",
        "with open(f\"{HOME}/filename.txt\", 'r') as file:\n",
        "    for line in file:\n",
        "        filename = line.strip()\n",
        "\n",
        "result_path = f\"{HOME}/result\""
      ]
    },
    {
      "cell_type": "code",
      "execution_count": null,
      "metadata": {
        "id": "_lMVPavMC5or"
      },
      "outputs": [],
      "source": [
        "import numpy as np\n",
        "import matplotlib.pyplot as plt\n",
        "from scipy.stats import gaussian_kde\n",
        "from mpl_toolkits.mplot3d import Axes3D\n",
        "\n",
        "\n",
        "def preprocess_data(file_path):\n",
        "    ids, frames, xs, ys = [], [], [], []\n",
        "    with open(file_path, 'r') as file:\n",
        "        for line in file:\n",
        "            if line.strip():  # Ignore empty lines\n",
        "                id_val, frame, x, y = line.strip().split(', ')\n",
        "                ids.append(int(id_val))\n",
        "                frames.append(int(frame))\n",
        "                xs.append(float(x))  # 소수 형태로 변환\n",
        "                ys.append(float(y))  # 소수 형태로 변환\n",
        "    return ids, frames, xs, ys\n",
        "\n",
        "\n",
        "# Load and preprocess the data\n",
        "ids, frames, x, y = preprocess_data(f'{result_path}/{filename}-4-trajectories.txt') # 파일 경로 확인 필요\n",
        "print(\"Data preprocessing complete.\")\n",
        "\n",
        "# Use Gaussian KDE to estimate the probability density without weights\n",
        "xy = np.vstack([x, y])\n",
        "kde = gaussian_kde(xy)  # 가중치 사용 제거\n",
        "print(\"KDE computation complete.\")\n",
        "\n",
        "# After preprocessing\n",
        "x = np.array(x)\n",
        "y = np.array(y)\n",
        "\n",
        "# Create a grid for plotting with aspect ratio consideration\n",
        "x_min, x_max = np.min(x), np.max(x)\n",
        "y_min, y_max = np.min(y), np.max(y)\n",
        "x_range = x_max - x_min\n",
        "y_range = y_max - y_min\n",
        "aspect_ratio = y_range / x_range\n",
        "grid_size_x = 100\n",
        "grid_size_y = int(grid_size_x * aspect_ratio)\n",
        "xgrid = np.linspace(x_min, x_max, grid_size_x)\n",
        "ygrid = np.linspace(y_min, y_max, grid_size_y)\n",
        "X, Y = np.meshgrid(xgrid, ygrid)\n",
        "Z = kde(np.vstack([X.ravel(), Y.ravel()]))\n",
        "Z = Z.reshape(X.shape)\n",
        "print(\"Grid preparation complete.\")\n",
        "\n",
        "# Plot the 3D heatmap\n",
        "fig = plt.figure(figsize=(10, 7))\n",
        "ax = fig.add_subplot(111, projection='3d')\n",
        "ax.plot_surface(X, Y, Z, cmap='viridis')\n",
        "ax.set_xlabel('X Coordinate')\n",
        "ax.set_ylabel('Y Coordinate')\n",
        "ax.set_zlabel('Probability Density')\n",
        "\n",
        "plt.show()\n",
        "print(\"Plotting complete.\")\n"
      ]
    }
  ],
  "metadata": {
    "colab": {
      "authorship_tag": "ABX9TyPE7fhu/FeA5fWWKNZexRWQ",
      "include_colab_link": true,
      "provenance": []
    },
    "kernelspec": {
      "display_name": "Python 3",
      "name": "python3"
    },
    "language_info": {
      "name": "python"
    }
  },
  "nbformat": 4,
  "nbformat_minor": 0
}
