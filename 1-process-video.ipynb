{
  "nbformat": 4,
  "nbformat_minor": 0,
  "metadata": {
    "colab": {
      "provenance": [],
      "gpuType": "T4",
      "include_colab_link": true
    },
    "kernelspec": {
      "name": "python3",
      "display_name": "Python 3"
    },
    "language_info": {
      "name": "python"
    },
    "accelerator": "GPU"
  },
  "cells": [
    {
      "cell_type": "markdown",
      "metadata": {
        "id": "view-in-github",
        "colab_type": "text"
      },
      "source": [
        "<a href=\"https://colab.research.google.com/github/seoes/exhibition-visitor-tracker/blob/main/1-process-video.ipynb\" target=\"_parent\"><img src=\"https://colab.research.google.com/assets/colab-badge.svg\" alt=\"Open In Colab\"/></a>"
      ]
    },
    {
      "cell_type": "markdown",
      "source": [
        "# 기본 설정\n",
        "\n",
        "torch, yolo 설정 후 비디오 파일에 대하여 추적을 수행하여 txt파일을 생성하는 소스코드입니다."
      ],
      "metadata": {
        "id": "-GdpxZ1Khfkq"
      }
    },
    {
      "cell_type": "markdown",
      "source": [
        "## colab 사용시 실행"
      ],
      "metadata": {
        "id": "TQNulXjUIxjm"
      }
    },
    {
      "cell_type": "code",
      "source": [
        "!git clone https://github.com/ultralytics/yolov5.git\n",
        "%cd yolov5\n",
        "!pip install -r requirements.txt\n",
        "\n",
        "# 구글드라이브 사용시 현재 셀 실행하기\n",
        "from google.colab import drive\n",
        "drive.mount('/content/drive')\n",
        "\n",
        "result_path = \"/content/drive/MyDrive/results\"\n",
        "\n",
        "import os\n",
        "HOME = os.getcwd()\n",
        "%cd {HOME}"
      ],
      "metadata": {
        "id": "5Itqs_J7Iljh"
      },
      "execution_count": null,
      "outputs": []
    },
    {
      "cell_type": "code",
      "source": [
        "!pip install gdown\n",
        "\n",
        "!gdown --id 1vcKRPpv7ve1St-0rynhGa-H3lHMyCNt9 -O exhibition-64-sample.mp4\n",
        "!gdown --id 1jEhErOcFKt7JrliQFzMar5yerHkTeu09 -O exhibition-64-full.mp4\n",
        "\n",
        "# !wget --no-check-certificate 'https://drive.google.com/uc?export=download&id=1vcKRPpv7ve1St-0rynhGa-H3lHMyCNt9' -O exhibition-64-sample.mp4\n",
        "# !wget --no-check-certificate 'https://drive.google.com/uc?export=download&id=1ERyxsKGZmJZFgOBKGwVguQFqGJbYu575' -O exhibition-32-sample.mp4\n",
        "# !wget --no-check-certificate 'https://drive.google.com/uc?export=download&id=1Mcp8xRYhsaxE3SfGAUaeJk63rNNkx80d' -O exhibition-4-sample.mp4\n",
        "# !wget --no-check-certificate 'https://drive.google.com/uc?export=download&id=1jEhErOcFKt7JrliQFzMar5yerHkTeu09?' -O exhibition-64-full.mp4\n",
        "# !wget --load-cookies /tmp/cookies.txt \"https://drive.google.com/uc?export=download&confirm=$(wget --quiet --save-cookies /tmp/cookies.txt --keep-session-cookies --no-check-certificate 'https://drive.google.com/uc?export=download&id=1jEhErOcFKt7JrliQFzMar5yerHkTeu09' -O- | sed -rn 's/.*confirm=([0-9A-Za-z_]+).*/\\1\\n/p')&id=1jEhErOcFKt7JrliQFzMar5yerHkTeu09\" -O exhibition-64-full.mp4 && rm -rf /tmp/cookies.txt\n",
        "# !wget --load-cookies /tmp/cookies.txt \"https://drive.google.com/uc?export=download&confirm=$(wget --quiet --save-cookies /tmp/cookies.txt --keep-session-cookies --no-check-certificate 'https://drive.google.com/uc?export=download&id=1WJpbbx-w3QCFVmB0D0892vWVBCWdL3Kn' -O- | sed -rn 's/.*confirm=([0-9A-Za-z_]+).*/\\1\\n/p')&id=1WJpbbx-w3QCFVmB0D0892vWVBCWdL3Kn\" -O exhibition-64-test.mp4 && rm -rf /tmp/cookies.txt\n",
        "# !wget --no-check-certificate 'https://drive.google.com/uc?export=download&id=1QSneFB5hw85I9LMf14PHKh8P63kWRryc' -O exhibition-dark-sample.mp4\n",
        "# !wget --no-check-certificate 'https://googledrive.com/host/exhibition/1jEhErOcFKt7JrliQFzMar5yerHkTeu09' -O exhibition-64-full.mp4\n",
        "\n",
        "\n",
        "SAMPLE_VIDEO_64 = f\"{HOME}/exhibition-64-sample.mp4\"\n",
        "SAMPLE_VIDEO_32 = f\"{HOME}/exhibition-32-sample.mp4\"\n",
        "SAMPLE_VIDEO_4 = f\"{HOME}/exhibition-4-sample.mp4\"\n",
        "FULL_VIDEO_64 = f\"{HOME}/exhibition-64-full.mp4\"\n",
        "TEST_VIDEO_64 = f\"{HOME}/exhibition-64-test.mp4\"\n",
        "SAMPLE_VIDEO_DARK = f\"{HOME}/exhibition-dark-sample.mp4\"\n",
        "\n",
        "VIDEO = FULL_VIDEO_64"
      ],
      "metadata": {
        "id": "WbuMiup-Jgj5"
      },
      "execution_count": null,
      "outputs": []
    },
    {
      "cell_type": "markdown",
      "source": [
        "## 로컬 환경에서 실행"
      ],
      "metadata": {
        "id": "i-_6u5CIIlvr"
      }
    },
    {
      "cell_type": "code",
      "source": [
        "import os\n",
        "HOME = os.getcwd()\n",
        "%cd {HOME}\n",
        "\n",
        "result_path = f\"{HOME}/result\"\n",
        "\n",
        "filename = \"\"\n",
        "\n",
        "with open(f\"{HOME}/filename.txt\", 'r') as file:\n",
        "    for line in file:\n",
        "        filename = line.strip()\n",
        "\n",
        "VIDEO =  f\"{HOME}/video/\" + filename"
      ],
      "metadata": {
        "id": "DGRkHbIyJGaj",
        "outputId": "ea1ed5f4-e1b6-49f2-ce19-55e5327e7071",
        "colab": {
          "base_uri": "https://localhost:8080/"
        }
      },
      "execution_count": 9,
      "outputs": [
        {
          "output_type": "stream",
          "name": "stdout",
          "text": [
            "/content\n"
          ]
        }
      ]
    },
    {
      "cell_type": "markdown",
      "source": [
        "## 첫 설정"
      ],
      "metadata": {
        "id": "DYy4jiBuhjr-"
      }
    },
    {
      "cell_type": "code",
      "execution_count": null,
      "metadata": {
        "id": "HCgTuRtChd9I"
      },
      "outputs": [],
      "source": [
        "import torch\n",
        "import numpy as np\n",
        "import cv2\n",
        "%matplotlib inline\n",
        "import matplotlib.pyplot as plt\n",
        "\n",
        "from IPython.display import clear_output, display, Image\n",
        "from collections import defaultdict"
      ]
    },
    {
      "cell_type": "markdown",
      "source": [
        "## YOLOv5 설치"
      ],
      "metadata": {
        "id": "Bg8MEXFGhpmX"
      }
    },
    {
      "cell_type": "code",
      "source": [
        "model = torch.hub.load('ultralytics/yolov5', 'yolov5s')"
      ],
      "metadata": {
        "id": "eAetkc3JhvUg"
      },
      "execution_count": null,
      "outputs": []
    },
    {
      "cell_type": "markdown",
      "source": [
        "## Supervision 설치"
      ],
      "metadata": {
        "id": "hjxeQWSZjhyr"
      }
    },
    {
      "cell_type": "code",
      "source": [
        "!pip install supervision\n",
        "\n",
        "import supervision as sv\n",
        "\n",
        "colors = sv.ColorPalette.default()\n",
        "\n",
        "video_info = sv.VideoInfo.from_video_path(VIDEO)"
      ],
      "metadata": {
        "id": "OeDQDbiZjjwA"
      },
      "execution_count": null,
      "outputs": []
    },
    {
      "cell_type": "markdown",
      "source": [
        "# 2. 데이터 세팅"
      ],
      "metadata": {
        "id": "Vpk_nE9-h140"
      }
    },
    {
      "cell_type": "markdown",
      "source": [
        "## Polygon 설정"
      ],
      "metadata": {
        "id": "OD0Fhbbw-HMP"
      }
    },
    {
      "cell_type": "code",
      "source": [
        "zone_coords = np.array([[378,260],[688,260],[1080,1745],[0,1745]])\n",
        "polygon = zone_coords"
      ],
      "metadata": {
        "id": "Y8S7k6W3-KRH"
      },
      "execution_count": null,
      "outputs": []
    },
    {
      "cell_type": "markdown",
      "source": [
        "## Annotator 설정"
      ],
      "metadata": {
        "id": "NRwf4KMCjs-E"
      }
    },
    {
      "cell_type": "markdown",
      "source": [
        "### ZoneAnnotator\n",
        "\n",
        "Polygon 값에 따라 구역을 표시하는 Annotator"
      ],
      "metadata": {
        "id": "cxR5eiilB3fC"
      }
    },
    {
      "cell_type": "code",
      "source": [
        "zone = sv.PolygonZone(polygon=polygon, frame_resolution_wh=video_info.resolution_wh)\n",
        "\n",
        "zone_annotator = sv.PolygonZoneAnnotator(\n",
        "        zone=zone,\n",
        "        color=colors.by_idx(0),\n",
        "        thickness=8,\n",
        "        # text_thickness=8,\n",
        "        # text_scale=4\n",
        "    )"
      ],
      "metadata": {
        "id": "pCFa7UzcB1Em"
      },
      "execution_count": null,
      "outputs": []
    },
    {
      "cell_type": "markdown",
      "source": [
        "### BoundingBoxAnnotator\n",
        "\n",
        "사람을 감싸는 직사각형 박스"
      ],
      "metadata": {
        "id": "3-ftImHskNkY"
      }
    },
    {
      "cell_type": "code",
      "source": [
        "bounding_box_annotator = sv.BoundingBoxAnnotator(color=colors.by_idx(0),thickness=6)"
      ],
      "metadata": {
        "id": "TXcD6pxKju6V"
      },
      "execution_count": null,
      "outputs": []
    },
    {
      "cell_type": "markdown",
      "source": [
        "### TraceAnnotator\n",
        "\n",
        "사람의 동선을 따라가는 꼬리"
      ],
      "metadata": {
        "id": "_DqLE2tOkron"
      }
    },
    {
      "cell_type": "code",
      "source": [
        "trace_annotator = sv.TraceAnnotator(color=colors.by_idx(0), trace_length=50,thickness=4)"
      ],
      "metadata": {
        "id": "FdSUQcKYkxQf"
      },
      "execution_count": null,
      "outputs": []
    },
    {
      "cell_type": "markdown",
      "source": [
        "### MaskAnnotator\n",
        "\n",
        "사람을 덮는 Mask"
      ],
      "metadata": {
        "id": "Fpw6o52ilQB2"
      }
    },
    {
      "cell_type": "code",
      "source": [
        "mask_annotator = sv.MaskAnnotator(color=colors.by_idx(0))"
      ],
      "metadata": {
        "id": "wwKqfa19lVs2"
      },
      "execution_count": null,
      "outputs": []
    },
    {
      "cell_type": "markdown",
      "source": [
        "### LabelAnnotator"
      ],
      "metadata": {
        "id": "9Pc4H8mPUX9m"
      }
    },
    {
      "cell_type": "code",
      "source": [
        "label_annotator = sv.LabelAnnotator(color=colors.by_idx(0))"
      ],
      "metadata": {
        "id": "_dxXx6-GUafk"
      },
      "execution_count": null,
      "outputs": []
    },
    {
      "cell_type": "markdown",
      "source": [
        "# 3. 비디오 분석"
      ],
      "metadata": {
        "id": "Vk4fcHm_iw1B"
      }
    },
    {
      "cell_type": "code",
      "source": [
        "tracker = sv.ByteTrack()\n",
        "\n",
        "each_coord = []\n",
        "\n",
        "def add_coordinates(detections, frame_number):\n",
        "    global each_coord\n",
        "\n",
        "    each_coord.append([])\n",
        "\n",
        "    for detection in detections:\n",
        "\n",
        "      coord = detection[0]\n",
        "\n",
        "      conf = detection[2]\n",
        "\n",
        "      center_x = int((coord[0] + coord[2]) / 2)\n",
        "      bottom_y = int(coord[3])\n",
        "\n",
        "      tracker_id = detection[4]\n",
        "\n",
        "      each_coord[-1].append((frame_number, tracker_id, conf, center_x, bottom_y))\n",
        "\n",
        "def process_frame(frame:np.ndarray, i) -> np.ndarray:\n",
        "      print(f\"Processing frame {i}...\")\n",
        "\n",
        "      results = model(frame,size=1280)\n",
        "      detections = sv.Detections.from_yolov5(results)\n",
        "\n",
        "      mask = zone.trigger(detections=detections)\n",
        "      detections = detections[mask]\n",
        "\n",
        "      detections = detections[(detections.class_id == 0) & (detections.confidence > 0.2)]\n",
        "      detections = tracker.update_with_detections(detections)\n",
        "\n",
        "      labels = [\n",
        "          str(tracker_id)\n",
        "          for tracker_id\n",
        "          in detections.tracker_id\n",
        "      ]\n",
        "\n",
        "      frame = zone_annotator.annotate(scene=frame.copy())\n",
        "      frame = bounding_box_annotator.annotate(scene=frame.copy(), detections=detections)\n",
        "      frame = trace_annotator.annotate(scene=frame.copy(), detections=detections)\n",
        "      frame = mask_annotator.annotate(scene=frame.copy(), detections=detections)\n",
        "      frame = label_annotator.annotate(scene=frame.copy(), detections=detections, labels=labels)\n",
        "\n",
        "      add_coordinates(detections, i)\n",
        "\n",
        "      return frame\n",
        "\n",
        "\n",
        "sv.process_video(source_path=VIDEO, target_path=f\"{HOME}/result.mp4\",callback=process_frame)\n",
        "\n",
        "for coords in each_coord:\n",
        "  print(coords)"
      ],
      "metadata": {
        "id": "FBOXuBrjjQEk"
      },
      "execution_count": null,
      "outputs": []
    },
    {
      "cell_type": "markdown",
      "source": [
        "## 데이터 저장"
      ],
      "metadata": {
        "id": "PpqUSZ6ek_Fv"
      }
    },
    {
      "cell_type": "markdown",
      "source": [
        "#### 로컬에서 사용시 실행"
      ],
      "metadata": {
        "id": "hDxWkyrC_kbh"
      }
    },
    {
      "cell_type": "markdown",
      "source": [
        "#### colab에서 사용시 실행"
      ],
      "metadata": {
        "id": "saNTWvu-_sWk"
      }
    },
    {
      "cell_type": "code",
      "source": [
        "with open(result_path + \"/1-all-coords\"., 'w') as f:\n",
        "    for coords in each_coord:\n",
        "        for tuple_ in coords:\n",
        "            line = ', '.join(map(str, tuple_))  # 튜플의 각 요소를 문자열로 변환하고 쉼표로 구분\n",
        "            f.write(line + '\\n')  # 파일에 한 줄씩 쓰기\n",
        "        f.write('\\n')  # 배열 각각을 구분하기 위해 빈 줄 추가"
      ],
      "metadata": {
        "id": "Ux4ofYuPlBrj"
      },
      "execution_count": null,
      "outputs": []
    }
  ]
}