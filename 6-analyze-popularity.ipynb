{
  "cells": [
    {
      "cell_type": "markdown",
      "metadata": {
        "colab_type": "text",
        "id": "view-in-github"
      },
      "source": [
        "<a href=\"https://colab.research.google.com/github/vss121/exhibition-visitor-tracker/blob/main/6_analyze_popularity.ipynb\" target=\"_parent\"><img src=\"https://colab.research.google.com/assets/colab-badge.svg\" alt=\"Open In Colab\"/></a>"
      ]
    },
    {
      "cell_type": "markdown",
      "metadata": {
        "id": "xQtQdwLAGpEj"
      },
      "source": [
        "# 6. 필터링된 ID값만 남은 프레임별 좌표값에 대해 가까운 작품 찾는 연산 -> 인기많은 작품 찾기"
      ]
    },
    {
      "cell_type": "markdown",
      "metadata": {},
      "source": [
        "# 구글 드라이브 연결"
      ]
    },
    {
      "cell_type": "code",
      "execution_count": null,
      "metadata": {},
      "outputs": [],
      "source": [
        "from google.colab import drive\n",
        "drive.mount('/content/drive')\n",
        "result_dir_path = \"/content/drive/MyDrive/results\"\n",
        "\n",
        "result_path = \"/content/drive/MyDrive/result\"\n",
        "filename = \"exhibition-64-full.mp4\""
      ]
    },
    {
      "cell_type": "markdown",
      "metadata": {},
      "source": [
        "# 로컬 환경에서 연결"
      ]
    },
    {
      "cell_type": "code",
      "execution_count": null,
      "metadata": {},
      "outputs": [],
      "source": [
        "import os\n",
        "HOME = os.getcwd()\n",
        "%cd {HOME}\n",
        "\n",
        "filename = \"\"\n",
        "\n",
        "with open(f\"{HOME}/filename.txt\", 'r') as file:\n",
        "    for line in file:\n",
        "        filename = line.strip()\n",
        "\n",
        "result_path = f\"{HOME}/result\"\n",
        "\n",
        "# 이후 아래 수정 필요"
      ]
    },
    {
      "cell_type": "code",
      "execution_count": 4,
      "metadata": {
        "id": "dY0-JN5RGhbg"
      },
      "outputs": [],
      "source": [
        "# 기본 라이브러리\n",
        "import pandas as pd\n",
        "import numpy as np"
      ]
    },
    {
      "cell_type": "code",
      "execution_count": 2,
      "metadata": {
        "colab": {
          "base_uri": "https://localhost:8080/"
        },
        "id": "ymmd5RLyGppL",
        "outputId": "1d4ac81e-240e-44a2-c268-e962c1742b8e"
      },
      "outputs": [
        {
          "name": "stdout",
          "output_type": "stream",
          "text": [
            "Mounted at /content/drive\n",
            "   frame  id  probability    x     y\n",
            "0      0   1     0.784182  293  1710\n",
            "1      0   2     0.749597  625  1024\n",
            "2      0   3     0.728924  574   491\n",
            "3      0   4     0.690018  544   435\n",
            "4      0   5     0.680504  459   323\n"
          ]
        }
      ],
      "source": [
        "# 파일 불러오기\n",
        "from google.colab import drive\n",
        "drive.mount('/content/drive')\n",
        "file_path = \"/content/drive/My Drive/each_coord-3.txt\"  # 파일 경로를 설정\n",
        "data = pd.read_csv(file_path, header=None, names=['frame', 'id', 'probability', 'x', 'y'])\n",
        "print(data.head())"
      ]
    },
    {
      "cell_type": "code",
      "execution_count": 24,
      "metadata": {
        "id": "B4ySVhh82hj_"
      },
      "outputs": [],
      "source": [
        "# 여러 작품의 좌표가 담긴 배열\n",
        "# 좌측 위가 (0,0)임\n",
        "artworks = np.array([\n",
        "    # 좌측 아래서부터 위로(14개)\n",
        "    [75,1743],\n",
        "    [119,1480],\n",
        "    [181,1241],\n",
        "    [221,1061],\n",
        "    [270,862],\n",
        "    [300,766],\n",
        "    [297,697],\n",
        "    [305,608],\n",
        "    [321,544],\n",
        "    [332,465],\n",
        "    [352,418],\n",
        "    [355,385],\n",
        "    [371,321],\n",
        "    [381,293],\n",
        "    # 우측 아래서부터 위로 (17개)\n",
        "    [1004,1618],\n",
        "    [963,1469],\n",
        "    [929,1270],\n",
        "    [866,1113],\n",
        "    [861,988],\n",
        "    [828,885],\n",
        "    [796,774],\n",
        "    [787,702],\n",
        "    [774,634],\n",
        "    [755,591],\n",
        "    [742,539],\n",
        "    [728,485],\n",
        "    [717,437],\n",
        "    [700,404],\n",
        "    [701,382],\n",
        "    [685,345],\n",
        "    [683,324],\n",
        "])"
      ]
    },
    {
      "cell_type": "markdown",
      "metadata": {
        "id": "QcIavHIM2wC5"
      },
      "source": [
        "방법1.\n",
        "반경을 직접 설정하고, 그 반경 안에 있는 사람들은 모두 작품 주변에 있는 사람 수로 세기"
      ]
    },
    {
      "cell_type": "code",
      "execution_count": 25,
      "metadata": {
        "colab": {
          "base_uri": "https://localhost:8080/"
        },
        "id": "X2rGTmuDGsK2",
        "outputId": "0d147af4-4c5c-44ed-b5db-7da36b874712"
      },
      "outputs": [
        {
          "name": "stdout",
          "output_type": "stream",
          "text": [
            "작품 1 주변에 있는 프레임 * 사람 수: 5812\n",
            "작품 2 주변에 있는 프레임 * 사람 수: 43174\n",
            "작품 3 주변에 있는 프레임 * 사람 수: 49999\n",
            "작품 4 주변에 있는 프레임 * 사람 수: 71534\n",
            "작품 5 주변에 있는 프레임 * 사람 수: 66315\n",
            "작품 6 주변에 있는 프레임 * 사람 수: 69393\n",
            "작품 7 주변에 있는 프레임 * 사람 수: 73098\n",
            "작품 8 주변에 있는 프레임 * 사람 수: 81394\n",
            "작품 9 주변에 있는 프레임 * 사람 수: 86529\n",
            "작품 10 주변에 있는 프레임 * 사람 수: 66107\n",
            "작품 11 주변에 있는 프레임 * 사람 수: 55245\n",
            "작품 12 주변에 있는 프레임 * 사람 수: 49972\n",
            "작품 13 주변에 있는 프레임 * 사람 수: 32853\n",
            "작품 14 주변에 있는 프레임 * 사람 수: 26792\n",
            "작품 15 주변에 있는 프레임 * 사람 수: 103\n",
            "작품 16 주변에 있는 프레임 * 사람 수: 1141\n",
            "작품 17 주변에 있는 프레임 * 사람 수: 7738\n",
            "작품 18 주변에 있는 프레임 * 사람 수: 19719\n",
            "작품 19 주변에 있는 프레임 * 사람 수: 16314\n",
            "작품 20 주변에 있는 프레임 * 사람 수: 22106\n",
            "작품 21 주변에 있는 프레임 * 사람 수: 30938\n",
            "작품 22 주변에 있는 프레임 * 사람 수: 32300\n",
            "작품 23 주변에 있는 프레임 * 사람 수: 29155\n",
            "작품 24 주변에 있는 프레임 * 사람 수: 37136\n",
            "작품 25 주변에 있는 프레임 * 사람 수: 44298\n",
            "작품 26 주변에 있는 프레임 * 사람 수: 49077\n",
            "작품 27 주변에 있는 프레임 * 사람 수: 47503\n",
            "작품 28 주변에 있는 프레임 * 사람 수: 46973\n",
            "작품 29 주변에 있는 프레임 * 사람 수: 42491\n",
            "작품 30 주변에 있는 프레임 * 사람 수: 38669\n",
            "작품 31 주변에 있는 프레임 * 사람 수: 34615\n"
          ]
        }
      ],
      "source": [
        "# 각 작품에 대해 반복\n",
        "i=0\n",
        "for artwork in artworks:\n",
        "    # 작품의 좌표와 분석할 반경 정의\n",
        "    artwork_x, artwork_y = artwork[0], artwork[1]\n",
        "    radius = 200\n",
        "\n",
        "    # 각 사람과 작품 사이의 거리 계산\n",
        "    distances = np.sqrt((data['x'] - artwork_x) ** 2 + (data['y'] - artwork_y) ** 2)\n",
        "\n",
        "    # 설정한 반경 내에 있는 사람들 필터링\n",
        "    nearby_people = data[distances <= radius]\n",
        "\n",
        "    # 결과 출력\n",
        "    i+=1\n",
        "    print(f\"작품 {i} 주변에 있는 프레임 * 사람 수: {len(nearby_people)}\")\n"
      ]
    },
    {
      "cell_type": "markdown",
      "metadata": {
        "id": "geAE4Tvi3Di7"
      },
      "source": [
        "방법2. k-means clustering\n",
        "\n",
        "1) 작품 위치를 클러스터의 중심으로 사용: 각 작품의 위치를 클러스터의 중심으로 초기화합니다.  \n",
        "2) K-평균 클러스터링 실행: 각 사람을 가장 가까운 작품의 클러스터에 할당합니다. 이 때, 사람의 위치 데이터를 사용하며, 각 사람은 단 하나의 클러스터에만 할당됩니다.  "
      ]
    },
    {
      "cell_type": "code",
      "execution_count": 26,
      "metadata": {
        "colab": {
          "base_uri": "https://localhost:8080/"
        },
        "id": "D7SNddgb2hCC",
        "outputId": "fbbf03e2-7067-4f00-baaf-c8b430da9c0d"
      },
      "outputs": [
        {
          "name": "stdout",
          "output_type": "stream",
          "text": [
            "작품 2 주변에 있는 프레임 * 사람 수: 41990\n",
            "작품 3 주변에 있는 프레임 * 사람 수: 39212\n",
            "작품 1 주변에 있는 프레임 * 사람 수: 38574\n",
            "작품 16 주변에 있는 프레임 * 사람 수: 37331\n",
            "작품 18 주변에 있는 프레임 * 사람 수: 36649\n",
            "작품 5 주변에 있는 프레임 * 사람 수: 29407\n",
            "작품 4 주변에 있는 프레임 * 사람 수: 28614\n",
            "작품 7 주변에 있는 프레임 * 사람 수: 25221\n",
            "작품 23 주변에 있는 프레임 * 사람 수: 23886\n",
            "작품 17 주변에 있는 프레임 * 사람 수: 21186\n",
            "작품 19 주변에 있는 프레임 * 사람 수: 20128\n",
            "작품 22 주변에 있는 프레임 * 사람 수: 19790\n",
            "작품 20 주변에 있는 프레임 * 사람 수: 19631\n",
            "작품 25 주변에 있는 프레임 * 사람 수: 19522\n",
            "작품 21 주변에 있는 프레임 * 사람 수: 17818\n",
            "작품 30 주변에 있는 프레임 * 사람 수: 16755\n",
            "작품 15 주변에 있는 프레임 * 사람 수: 16239\n",
            "작품 8 주변에 있는 프레임 * 사람 수: 15959\n",
            "작품 9 주변에 있는 프레임 * 사람 수: 15566\n",
            "작품 24 주변에 있는 프레임 * 사람 수: 15021\n",
            "작품 27 주변에 있는 프레임 * 사람 수: 14306\n",
            "작품 6 주변에 있는 프레임 * 사람 수: 13900\n",
            "작품 26 주변에 있는 프레임 * 사람 수: 13622\n",
            "작품 11 주변에 있는 프레임 * 사람 수: 13164\n",
            "작품 12 주변에 있는 프레임 * 사람 수: 12799\n",
            "작품 14 주변에 있는 프레임 * 사람 수: 12220\n",
            "작품 28 주변에 있는 프레임 * 사람 수: 11945\n",
            "작품 29 주변에 있는 프레임 * 사람 수: 10480\n",
            "작품 13 주변에 있는 프레임 * 사람 수: 9120\n",
            "작품 31 주변에 있는 프레임 * 사람 수: 8573\n",
            "작품 10 주변에 있는 프레임 * 사람 수: 6786\n",
            "\n",
            "\n",
            "0     38574\n",
            "1     41990\n",
            "2     39212\n",
            "3     28614\n",
            "4     29407\n",
            "5     13900\n",
            "6     25221\n",
            "7     15959\n",
            "8     15566\n",
            "9      6786\n",
            "10    13164\n",
            "11    12799\n",
            "12     9120\n",
            "13    12220\n",
            "14    16239\n",
            "15    37331\n",
            "16    21186\n",
            "17    36649\n",
            "18    20128\n",
            "19    19631\n",
            "20    17818\n",
            "21    19790\n",
            "22    23886\n",
            "23    15021\n",
            "24    19522\n",
            "25    13622\n",
            "26    14306\n",
            "27    11945\n",
            "28    10480\n",
            "29    16755\n",
            "30     8573\n",
            "Name: cluster, dtype: int64\n"
          ]
        }
      ],
      "source": [
        "from sklearn.cluster import KMeans\n",
        "\n",
        "# KMeans 클러스터링 실행\n",
        "kmeans = KMeans(n_clusters=len(artworks), init=artworks, n_init=1)\n",
        "data['cluster'] = kmeans.fit_predict(data[['x', 'y']])\n",
        "\n",
        "# 각 클러스터(작품)별 사람 수 계산\n",
        "counts = data['cluster'].value_counts()\n",
        "\n",
        "# 결과 출력 (default : 내림차순)\n",
        "for i, count in counts.items():\n",
        "    print(f\"작품 {i+1} 주변에 있는 프레임 * 사람 수: {count}\")\n",
        "print(f\"\\n\")\n",
        "\n",
        "# 결과 출력 (클러스터 번호별로 오름차순 정렬하여)\n",
        "sorted_counts = counts.sort_index()\n",
        "print(sorted_counts)\n"
      ]
    }
  ],
  "metadata": {
    "colab": {
      "authorship_tag": "ABX9TyPAEDo+/01WX+lzYFBpKYhA",
      "include_colab_link": true,
      "provenance": []
    },
    "kernelspec": {
      "display_name": "Python 3",
      "name": "python3"
    },
    "language_info": {
      "name": "python"
    }
  },
  "nbformat": 4,
  "nbformat_minor": 0
}
